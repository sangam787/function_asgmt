{
 "cells": [
  {
   "cell_type": "code",
   "execution_count": 1,
   "id": "ea575d27-0ced-4067-bb94-5287f399070c",
   "metadata": {
    "editable": true,
    "slideshow": {
     "slide_type": ""
    },
    "tags": []
   },
   "outputs": [
    {
     "name": "stdout",
     "output_type": "stream",
     "text": [
      "-2\n",
      "9\n"
     ]
    }
   ],
   "source": [
    "                              \"Note: For each theory Question, give at least one example.\" \n",
    "\n",
    "\"Que1. What is the difference between a function and a method in Python?\" \n",
    "\"\"\"\n",
    "Answer-1\n",
    "Functions:-\n",
    "\n",
    "1-Function is block of code that is also called by its name. (independent)\n",
    "2-The function can have different parameters or may not have any at all. \n",
    "If any data (parameters) are passed, they are passed explicitly.\n",
    "3-It may or may not return any data.\n",
    "4-Function does not deal with Class and its instance concept.\n",
    "for example\n",
    "\n",
    "\"\"\"\n",
    "def Subtract (a, b):\n",
    "\treturn (a-b)\n",
    "\n",
    "print( Subtract(10, 12) ) # prints -2\n",
    "\n",
    "print( Subtract(15, 6) ) # prints 9\n"
   ]
  },
  {
   "cell_type": "code",
   "execution_count": 1,
   "id": "c161d809-ba77-42ee-8af9-9d20f4e980d9",
   "metadata": {},
   "outputs": [
    {
     "name": "stdout",
     "output_type": "stream",
     "text": [
      "I am in method_abc of ABC class. \n"
     ]
    }
   ],
   "source": [
    "\"\"\"\n",
    "Python Method\n",
    "\n",
    "Method is called by its name, but it is associated to an object (dependent).\n",
    "A method definition always includes 'self' as its first parameter.\n",
    "A method is implicitly passed to the object on which it is invoked.\n",
    "It may or may not return any data.\n",
    "A method can operate on the data (instance variables) that is contained by the corresponding class\n",
    "\"\"\"\n",
    "# Python 3 User-Defined Method\n",
    "class ABC :\n",
    "\tdef method_abc (self):\n",
    "\t\tprint(\"I am in method_abc of ABC class. \")\n",
    "\n",
    "class_ref = ABC() # object of ABC class\n",
    "class_ref.method_abc()\n"
   ]
  },
  {
   "cell_type": "code",
   "execution_count": 2,
   "id": "37e829b1-e2ab-45f4-8d8c-29e5fb2e2808",
   "metadata": {},
   "outputs": [
    {
     "name": "stdout",
     "output_type": "stream",
     "text": [
      "3\n"
     ]
    }
   ],
   "source": [
    "\"Que2. Explain the concept of function arguments and parameters in Python.\" \n",
    "\n",
    "\"Answer-2\"\n",
    "\"Parameters are the variables listed inside the parentheses in the function definition.\"\n",
    "\"for example\"\n",
    "# Here a,b are the parameters\n",
    "def sum(a,b):\n",
    "  print(a+b)\n",
    "  \n",
    "sum(1,2)\n"
   ]
  },
  {
   "cell_type": "code",
   "execution_count": 3,
   "id": "8e67d25c-d496-48ec-89f1-1a2eb261e540",
   "metadata": {},
   "outputs": [
    {
     "name": "stdout",
     "output_type": "stream",
     "text": [
      "3\n"
     ]
    }
   ],
   "source": [
    "\"Arguments are the values passed to the function when it is called.\"\n",
    "\"for example\"\n",
    "def sum(a,b):\n",
    "  print(a+b)\n",
    "  \n",
    "# Here the values 1,2 are arguments\n",
    "sum(1,2)\n"
   ]
  },
  {
   "cell_type": "code",
   "execution_count": 7,
   "id": "10dee142-ff2f-445f-915e-183136dd3101",
   "metadata": {},
   "outputs": [],
   "source": [
    "\"Que-3. What are the different ways to define and call a function in Python?\" \n",
    "\"\"\"\n",
    "Python def keyword is used to define a function, \n",
    "it is placed before a function name that is provided by the user to create \n",
    "a user-defined function. In Python, a function is a logical unit of code \n",
    "containing a sequence of statements indented under a name given using \n",
    "the “def” keyword. In Python def keyword is the most used keyword.\n",
    "       def funtion_name(parameters):\n",
    "            statement\n",
    "            return expression \n",
    "\n",
    "for example\n",
    "\"\"\"\n",
    "# A simple Python function\n",
    "def fun():\n",
    "    print(\"Welcome to 'PW Skills'\")\n"
   ]
  },
  {
   "cell_type": "code",
   "execution_count": 8,
   "id": "2db894bb-1f1d-4d70-9b0f-d20656d02814",
   "metadata": {},
   "outputs": [
    {
     "name": "stdout",
     "output_type": "stream",
     "text": [
      "Welcome to 'PW Skills'\n"
     ]
    }
   ],
   "source": [
    "\"\"\"\n",
    "Calling a Function in Python\n",
    "After creating a function in Python we can call it \n",
    "by using the name of the functions Python followed by \n",
    "parenthesis containing parameters of that particular function. \n",
    "Below is the example for calling def function Python.\n",
    "for example\n",
    "\"\"\"\n",
    "# A simple Python function\n",
    "def fun():\n",
    "    print(\"Welcome to 'PW Skills'\")\n",
    "fun()\n"
   ]
  },
  {
   "cell_type": "code",
   "execution_count": 18,
   "id": "8c0dacef-8d14-4a58-b142-dc4876fb040e",
   "metadata": {},
   "outputs": [
    {
     "name": "stdout",
     "output_type": "stream",
     "text": [
      "3\n"
     ]
    }
   ],
   "source": [
    "\"\"\"\n",
    "Que-4. What is the purpose of the 'return' statement in a Python function?\n",
    "\n",
    "Return Statement in Python Function\n",
    "The function return statement is used to exit from a function and go back to \n",
    "the function caller and return the specified value or data item to the caller.\n",
    "The return statement can consist of a variable, an expression, or a constant which \n",
    "is returned at the end of the function execution. If none of the above is present \n",
    "with the return statement a None object is returned.\n",
    "for example\n",
    "\"\"\"\n",
    "def addnum(a,b):\n",
    "    # This function returns the sum value of the entered number\n",
    "    return a+b\n",
    "print(addnum(1,2))\n"
   ]
  },
  {
   "cell_type": "code",
   "execution_count": 22,
   "id": "5e84e4d0-33ab-430f-a871-0aabc662a6f5",
   "metadata": {},
   "outputs": [
    {
     "name": "stdout",
     "output_type": "stream",
     "text": [
      "<str_ascii_iterator object at 0x000002ABABD87C40>\n",
      "s\n",
      "a\n",
      "n\n",
      "g\n",
      "a\n",
      "m\n"
     ]
    }
   ],
   "source": [
    "\"Que-5. What are iterators in Python and how do they differ from iterables?\"\n",
    "\"\"\"\n",
    "'Iterable' is an object, that one can iterate over. It generates an Iterator when passed to iter() method. \n",
    "An 'iterator' is an object, which is used to iterate over an iterable object using the __next__() method. \n",
    "Iterators have the __next__() method, which returns the next item of the object.\n",
    "\n",
    "'Every iterator is also an iterable, but not every iterable is an iterator in Python.'\n",
    "For example, a list is iterable but a list is not an iterator. \n",
    "An iterator can be created from an iterable by using the function iter().  \n",
    "for examples:-\n",
    "\"\"\"\n",
    "# strA = \"sangam\"\n",
    "# print(next(strA))  # it will give an error that 'str' obj is not an iterator\n",
    "strA = \"sangam\"\n",
    "itr = iter(strA)   # if we use iter()method \n",
    "print(itr)         # now object become iterator if iterable.\n",
    "print(next(itr))\n",
    "print(next(itr))\n",
    "print(next(itr))\n",
    "print(next(itr))\n",
    "print(next(itr))\n",
    "print(next(itr))\n",
    "\n"
   ]
  },
  {
   "cell_type": "code",
   "execution_count": 23,
   "id": "262bfd16-b6b2-4fbc-9bb2-221768d72eb7",
   "metadata": {},
   "outputs": [
    {
     "name": "stdout",
     "output_type": "stream",
     "text": [
      "PW\n",
      "Skills\n",
      "course\n"
     ]
    }
   ],
   "source": [
    "\"\"\"\n",
    "Que-6. Explain the concept of generators in Python and how they are defined.\"\n",
    "A Generator in Python is a function that returns an iterator using the Yield keyword.\n",
    "\n",
    "A generator function in Python is defined like a normal function, but whenever it needs \n",
    "to generate a value, it does so with the yield keyword rather than return. If the body \n",
    "of a def contains yield, the function automatically becomes a Python generator function. \n",
    "\n",
    "we define a generators by using two keywords 'def' and 'yield'\n",
    "for example\n",
    "\"\"\"\n",
    "def simpleGeneratorFun():\n",
    "    yield \"PW\"\n",
    "    yield \"Skills\"\n",
    "    yield \"course\"\n",
    "\n",
    "for x in simpleGeneratorFun():\n",
    "    print(x)\n"
   ]
  },
  {
   "cell_type": "code",
   "execution_count": 27,
   "id": "0d9e3bee-f14f-4fb5-91ef-e41f5b383afe",
   "metadata": {},
   "outputs": [
    {
     "name": "stdout",
     "output_type": "stream",
     "text": [
      "[1, 2, 3]\n"
     ]
    }
   ],
   "source": [
    "\"\"\"\n",
    "Que-7. What are the advantages of using generators over regular functions? \n",
    "\n",
    "Generators differ from standard functions in that they allow us to iterate \n",
    "through a sequence of values over time, instead of computing and returning a single result.\n",
    "\n",
    "\n",
    "Standard Functions: Compute a value and return it once. They use the return statement.\n",
    "\"\"\"\n",
    "def standard_function():\n",
    "    return [1, 2, 3]\n",
    "print(standard_function())\n"
   ]
  },
  {
   "cell_type": "code",
   "execution_count": 24,
   "id": "b777bec5-e977-4c39-b7de-02e9be4559cf",
   "metadata": {},
   "outputs": [
    {
     "name": "stdout",
     "output_type": "stream",
     "text": [
      "1\n",
      "2\n",
      "3\n"
     ]
    }
   ],
   "source": [
    "\"\"\"\n",
    "Generators: Use the yield statement to return values one at a time, allowing iteration \n",
    "over a sequence of values without storing the entire sequence in memory.\n",
    "\"\"\"\n",
    "def generator_function():\n",
    "    yield 1\n",
    "    yield 2\n",
    "    yield 3\n",
    "for x in generator_function():\n",
    "    print(x)\n"
   ]
  },
  {
   "cell_type": "code",
   "execution_count": 28,
   "id": "0856cafc-580e-4b70-b0cb-b9b1865a8628",
   "metadata": {},
   "outputs": [
    {
     "name": "stdout",
     "output_type": "stream",
     "text": [
      "SANGAM\n"
     ]
    }
   ],
   "source": [
    "\"\"\"\n",
    "Que-8. What is a lambda function in Python and when is it typically used? \n",
    "\n",
    "Python Lambda Functions are anonymous functions means that the function is without a name. \n",
    "As we already know the def keyword is used to define a normal function in Python. Similarly, \n",
    "the lambda keyword is used to define an anonymous function in Python.\n",
    "\n",
    "Lambda funtion typically used for performing short operations/data manipulations or \n",
    "reduce the readability of code. \n",
    "for example\n",
    "\"\"\"\n",
    "x = \"sangam\"\n",
    "upper = lambda a:a.upper()\n",
    "print(upper(x))\n"
   ]
  },
  {
   "cell_type": "code",
   "execution_count": 29,
   "id": "4a35d123-677e-4b39-b360-66160183861e",
   "metadata": {},
   "outputs": [
    {
     "name": "stdout",
     "output_type": "stream",
     "text": [
      "[1, 2, 3, 4]\n"
     ]
    }
   ],
   "source": [
    "\"\"\"\n",
    "Que-9. Explain the purpose and usage of the 'map() function in Python.\n",
    "\n",
    "The map() function is used to apply a given function to every item of an iterable, \n",
    "such as a list or tuple, and returns a map object (which is an iterator).\n",
    "\"\"\"\n",
    "s = ['1', '2', '3', '4']\n",
    "res = map(int, s)\n",
    "print(list(res))\n"
   ]
  },
  {
   "cell_type": "code",
   "execution_count": 30,
   "id": "2534e09f-539d-45d0-b867-967d78043d26",
   "metadata": {},
   "outputs": [
    {
     "name": "stdout",
     "output_type": "stream",
     "text": [
      "[1, 2, 3, 4]\n"
     ]
    }
   ],
   "source": [
    "\"\"\"\n",
    "Que-10. What is the difference between `map()`, `reduce()`, and `filter() functions in Python? \n",
    "\n",
    "'map()'\n",
    "The map() function is used to apply a given function to every item of an iterable, \n",
    "such as a list or tuple, and returns a map object (which is an iterator).\n",
    "\"\"\"\n",
    "s = ['1', '2', '3', '4']\n",
    "res = map(int, s)\n",
    "print(list(res))\n",
    "\n",
    "\n"
   ]
  },
  {
   "cell_type": "code",
   "execution_count": 31,
   "id": "1856e8b1-d7c1-4cf3-9521-a255a4dd1d50",
   "metadata": {},
   "outputs": [
    {
     "name": "stdout",
     "output_type": "stream",
     "text": [
      "The sum of the list elements is : 17\n",
      "The maximum element of the list is : 6\n"
     ]
    }
   ],
   "source": [
    "\"\"\"\n",
    "'reduce()'\n",
    "The reduce(fun,seq) function is used to apply a particular function passed in its \n",
    "argument to all of the list elements mentioned in the sequence passed along.This function is defined in “functools” module.\n",
    "for example\n",
    "\"\"\"\n",
    "# python code to demonstrate working of reduce()\n",
    "\n",
    "# # importing functools for reduce()\n",
    "import functools\n",
    "\n",
    "# initializing list\n",
    "lis = [1, 3, 5, 6, 2]\n",
    "\n",
    "# using reduce to compute sum of list\n",
    "print(\"The sum of the list elements is : \", end=\"\")\n",
    "print(functools.reduce(lambda a, b: a+b, lis))\n",
    "\n",
    "# using reduce to compute maximum element from list\n",
    "print(\"The maximum element of the list is : \", end=\"\")\n",
    "print(functools.reduce(lambda a, b: a if a > b else b, lis))\n"
   ]
  },
  {
   "cell_type": "code",
   "execution_count": 32,
   "id": "68e80ed7-5887-4aa0-a369-9756147c6a75",
   "metadata": {},
   "outputs": [
    {
     "name": "stdout",
     "output_type": "stream",
     "text": [
      "THE FILTERED LETTERS ARE:\n",
      "e\n",
      "o\n",
      "a\n"
     ]
    }
   ],
   "source": [
    "\"\"\"\n",
    "'filter()'\n",
    "The filter() method filters the given sequence with the help of a \n",
    "function that tests each element in the sequence to be true or not.\n",
    "\n",
    "Python filter() Syntax\n",
    "filter(function, sequence)\n",
    "function: function that tests if each element of a sequence is true or not.\n",
    "sequence: sequence which needs to be filtered, it can be sets, lists, tuples, or containers of any iterators.\n",
    "for example\n",
    "\"\"\"\n",
    "def fun(variables):\n",
    "    letters = ['a', 'e', 'i', 'o', 'u']\n",
    "    if variables in letters:\n",
    "        return True\n",
    "    else:\n",
    "        return False\n",
    "\n",
    "sequence = ['e', 'g', 'h', 'o', 'p', 'r', 'w', 'a']\n",
    "filtrd = filter(fun,sequence)\n",
    "print('THE FILTERED LETTERS ARE:')\n",
    "for s in filtrd:\n",
    "    print(s)\n",
    "\n"
   ]
  },
  {
   "cell_type": "code",
   "execution_count": 33,
   "id": "deea7c25-5287-459a-b353-3d2537ba6e48",
   "metadata": {},
   "outputs": [
    {
     "name": "stdout",
     "output_type": "stream",
     "text": [
      "The sum of the list elements is : 113\n"
     ]
    }
   ],
   "source": [
    "\"\"\"\n",
    "11. Using pen & Paper write the internal mechanism for sum operation using \n",
    "reduce function on this given list: [47,11,42,13]; \n",
    "(Attach paper image for this answer) in doc or colab notebook.\n",
    "\n",
    "# python code to demonstrate working of reduce()\n",
    "\n",
    "\"\"\"\n",
    "# importing functools for reduce()\n",
    "import functools\n",
    "\n",
    "# initializing list\n",
    "lis = [47,11,42,13]\n",
    "\n",
    "# using reduce to compute sum of list\n",
    "print(\"The sum of the list elements is : \", end=\"\")\n",
    "print(functools.reduce(lambda a, b: a+b, lis))\n"
   ]
  },
  {
   "cell_type": "code",
   "execution_count": 20,
   "id": "32059874-0267-490e-8330-2800c46bcc99",
   "metadata": {},
   "outputs": [
    {
     "name": "stdout",
     "output_type": "stream",
     "text": [
      "[3]\n"
     ]
    }
   ],
   "source": [
    "                                            \"Practical Questions:\" \n",
    "\n",
    "\n",
    "\"Que-1. Write a Python function that takes a list of numbers as input and returns the sum of all even numbers in the list.\" \n",
    "def listA(*args):\n",
    "    x= []\n",
    "    for x in args:\n",
    "        if x %2 == 0:\n",
    "         x += 1\n",
    "         return [x] \n",
    "print(listA(1,2,3,4,5,6))"
   ]
  },
  {
   "cell_type": "code",
   "execution_count": 2,
   "id": "fc9d7887-46e6-44ac-b430-927b4cec78d5",
   "metadata": {},
   "outputs": [
    {
     "name": "stdin",
     "output_type": "stream",
     "text": [
      " pwskills\n"
     ]
    },
    {
     "name": "stdout",
     "output_type": "stream",
     "text": [
      "sllikswp\n"
     ]
    }
   ],
   "source": [
    "\"Que-2. Create a Python function that accepts a string and returns the reverse of that string.\" \n",
    "def func(x): \n",
    "  return x[::-1]\n",
    "mytxt = func(input())\n",
    "print(mytxt)"
   ]
  },
  {
   "cell_type": "code",
   "execution_count": 3,
   "id": "99393d39-474d-4d60-bac5-87875feac9da",
   "metadata": {},
   "outputs": [
    {
     "name": "stdout",
     "output_type": "stream",
     "text": [
      "[1, 4, 9, 16, 25, 36, 49, 64, 81, 100, 121, 144, 169, 196, 225, 256, 289, 324, 361, 400]\n"
     ]
    }
   ],
   "source": [
    "\"Que-3. Implement a Python function that takes a list of integers and returns a new list containing the squares of each number.\" \n",
    "\n",
    "# Answer-3\n",
    "\n",
    "def printValues():\n",
    "    # Create an empty list 'l'\n",
    "    l = list()\n",
    "    \n",
    "    # Iterate through numbers from 1 to 20 (inclusive)\n",
    "    for i in range(1, 21):\n",
    "        # Calculate the square of 'i' and append it to the list 'l'\n",
    "        l.append(i**2)\n",
    "    \n",
    "    # Print the list containing squares of numbers from 1 to 20\n",
    "    print(l)\n",
    "\n",
    "# Call the 'printValues' function to generate and print the list of squares\n",
    "printValues() "
   ]
  },
  {
   "cell_type": "code",
   "execution_count": 4,
   "id": "a13167aa-fb01-411c-b260-4fd1e3d6d48e",
   "metadata": {},
   "outputs": [
    {
     "name": "stdout",
     "output_type": "stream",
     "text": [
      "2 3 5 7 11 13 17 19 23 29 31 37 41 43 47 53 59 61 67 71 73 79 83 89 97 101 103 107 109 113 127 131 137 139 149 151 157 163 167 173 179 181 191 193 197 199 "
     ]
    }
   ],
   "source": [
    "\"Que4. Write a Python function that checks if a given number is prime or not from 1 to 200.\" \n",
    "\n",
    "# Answer-4\n",
    "\n",
    "# function to check if a given number is prime\n",
    "def isPrime(n):\n",
    "  #since 0 and 1 is not prime return false.\n",
    "    if(n==1 or n==0):  return False\n",
    "  \n",
    "  #Run a loop from 2 to n-1\n",
    "    for i in range(2,n):\n",
    "    #if the number is divisible by i, then n is not a prime number.\n",
    "        if(n%i==0):\n",
    "            return False\n",
    "  \n",
    "  #otherwise, n is prime number.\n",
    "    return True\n",
    "\n",
    "N = 200\n",
    "#check for every number from 1 to N\n",
    "for i in range(1,N+1):\n",
    "  #check if current number is prime\n",
    "    if(isPrime(i)):\n",
    "        print(i,end=\" \")     \n",
    "\n",
    "          \n",
    "\n"
   ]
  },
  {
   "cell_type": "code",
   "execution_count": 17,
   "id": "71f96630-ac25-4774-8d88-1ecb23dda67a",
   "metadata": {},
   "outputs": [
    {
     "name": "stdout",
     "output_type": "stream",
     "text": [
      "Fibonacci Series:  0 1 1 2 3 5 8 13 21 34\n"
     ]
    }
   ],
   "source": [
    "\"Que-5. Create an iterator class in Python that generates the Fibonacci sequence up to a specified number of terms.\" \n",
    "# defining function to return list of fibonacci elements\n",
    "def fibonacci(n):\n",
    "    \n",
    "    l = [0,1] \n",
    "    for i in range(2,n):\n",
    "        l.append(l[-1]+l[-2])\n",
    "    return l\n",
    "\n",
    "#Main function\n",
    "if __name__ == \"__main__\":\n",
    "   #defining the total number of elements\n",
    "    n = 10\n",
    "    \n",
    "    #calling of function\n",
    "    fibo = fibonacci(n)\n",
    "    \n",
    "    #displaying the function  \n",
    "    print(\"Fibonacci Series: \",*fibo)\n",
    "\n",
    "\n",
    "\n"
   ]
  },
  {
   "cell_type": "code",
   "execution_count": 16,
   "id": "905ae64b-d494-466c-b196-0991de1b739a",
   "metadata": {},
   "outputs": [
    {
     "name": "stdin",
     "output_type": "stream",
     "text": [
      "Input the base number:  2\n",
      "Input the exponent:  2\n"
     ]
    },
    {
     "name": "stdout",
     "output_type": "stream",
     "text": [
      "Powers of 2 up to exponent 2:\n",
      "1\n",
      "2\n",
      "4\n"
     ]
    }
   ],
   "source": [
    "\"Que-6. Write a generator function in Python that yields the powers of 2 up to a given exponent.\" \n",
    "def power_generator(base, exponent):\n",
    "    result = 1\n",
    "    for i in range(exponent + 1):\n",
    "        yield result\n",
    "        result *= base\n",
    "\n",
    "# Accept input from the user\n",
    "base = int(input(\"Input the base number: \"))\n",
    "exponent = int(input(\"Input the exponent: \"))\n",
    "\n",
    "# Create the generator object\n",
    "power_gen = power_generator(base, exponent)\n",
    "\n",
    "# Generate and print the powers\n",
    "print(f\"Powers of {base} up to exponent {exponent}:\")\n",
    "for power in power_gen:\n",
    "    print(power)\n",
    "\n",
    "\n",
    "\n",
    "\n",
    "\n",
    "\n"
   ]
  },
  {
   "cell_type": "code",
   "execution_count": null,
   "id": "e9d20805-d920-4a1e-bae2-ba81a0228ab5",
   "metadata": {},
   "outputs": [],
   "source": [
    "\"Que-7. Implement a generator function that reads a file line by line and yields each line as a string.\" \n",
    "# Open the file in read mode\n",
    "with open('filename.txt', 'r') as file:\n",
    "    # Read each line in the file\n",
    "    for line in file:\n",
    "        # Print each line\n",
    "        print(line.strip())\n"
   ]
  },
  {
   "cell_type": "code",
   "execution_count": 13,
   "id": "94931179-4043-45ac-9ec8-97e0fff14cba",
   "metadata": {},
   "outputs": [
    {
     "name": "stdout",
     "output_type": "stream",
     "text": [
      "Original list of tuples:\n",
      "[('English', 88), ('Science', 90), ('Maths', 97), ('Social sciences', 82)]\n",
      "\n",
      "Sorting the List of Tuples:\n",
      "[('Social sciences', 82), ('English', 88), ('Science', 90), ('Maths', 97)]\n"
     ]
    }
   ],
   "source": [
    "\"Que-8. Use a lambda function in Python to sort a list of tuples based on the second element of each tuple.\" \n",
    "\n",
    "# Create a list of tuples named 'subject_marks', each tuple containing a subject and its corresponding marks\n",
    "subject_marks = [('English', 88), ('Science', 90), ('Maths', 97), ('Social sciences', 82)]\n",
    "\n",
    "# Display the original list of tuples to the console\n",
    "print(\"Original list of tuples:\")\n",
    "print(subject_marks)\n",
    "\n",
    "\n",
    "\n",
    "\n",
    "\n",
    "\n",
    "\n",
    "\n",
    "\"Sort the 'subject_marks' list of tuples based on the second element of each tuple (the marks)\"\n",
    "\"using a lambda function as the sorting key to extract the second element\"\n",
    "subject_marks.sort(key=lambda x: x[1])\n",
    "\n",
    "# Display the sorted list of tuples to the console\n",
    "print(\"\\nSorting the List of Tuples:\")\n",
    "print(subject_marks) "
   ]
  },
  {
   "cell_type": "code",
   "execution_count": null,
   "id": "55e31838-9a3c-4381-b145-0012c9774326",
   "metadata": {},
   "outputs": [],
   "source": [
    "\"Que-9. Write a Python program that uses map() to convert a list of temperatures from Celsius to Fahrenheit.\" "
   ]
  },
  {
   "cell_type": "code",
   "execution_count": 10,
   "id": "9767027b-1460-48bd-861f-9db671064611",
   "metadata": {},
   "outputs": [
    {
     "name": "stdout",
     "output_type": "stream",
     "text": [
      "removed vowels are:\n",
      "i\n"
     ]
    }
   ],
   "source": [
    "\"Que-10. Create a Python program that uses filter() to remove all the vowels from a given string.\" \n",
    "def fun(string):\n",
    "    letters = ['a', 'e', 'i', 'o', 'u']\n",
    "    if string in letters:\n",
    "        return True\n",
    "    else:\n",
    "        return False\n",
    "\n",
    "strA = \"PW Skills\"\n",
    "filtrd = filter(fun,strA)\n",
    "print('removed vowels are:')\n",
    "for s in filtrd:\n",
    "    print(s)"
   ]
  },
  {
   "cell_type": "code",
   "execution_count": null,
   "id": "0b79188e-dd84-4a3f-8728-c813a01fbc89",
   "metadata": {},
   "outputs": [],
   "source": [
    "\"\"\"\n",
    "11) Imagine an accounting routine used in a book shop. It works on a list with sublists, which look like this: \n",
    "Order Number    Book Title and Author                 Price per Item             Quantity \n",
    "34587           Learning Python, Mark Lutz                40.95                     4\n",
    "98762           Programming Python, Mark Lutz             56.80                     5\n",
    "77226           Head First Python, Paul Barry             32.95                     3\n",
    "88112           Einführung in Python3, Bernd Klein        24.99                     3                    \n",
    "            \n",
    "Write a Python program, which returns a list with 2-tuples. Each tuple consists of the order number and the \n",
    "product of the price per item and the quantity. The product should be increased by 10,- € if the value of \n",
    "the order is smaller than 100,00 €. Write a Python program using lambda and map..\n",
    "                                   \n",
    "\"\"\"                                      \n"
   ]
  }
 ],
 "metadata": {
  "kernelspec": {
   "display_name": "Python 3 (ipykernel)",
   "language": "python",
   "name": "python3"
  },
  "language_info": {
   "codemirror_mode": {
    "name": "ipython",
    "version": 3
   },
   "file_extension": ".py",
   "mimetype": "text/x-python",
   "name": "python",
   "nbconvert_exporter": "python",
   "pygments_lexer": "ipython3",
   "version": "3.12.7"
  }
 },
 "nbformat": 4,
 "nbformat_minor": 5
}
